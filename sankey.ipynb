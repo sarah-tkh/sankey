{
 "cells": [
  {
   "cell_type": "code",
   "execution_count": 28,
   "id": "54bf4c47",
   "metadata": {},
   "outputs": [
    {
     "name": "stdout",
     "output_type": "stream",
     "text": [
      "Index(['region', 'event_month', 'supply_source', 'demande_source',\n",
      "       'plateforme_AE', 'device_type', 'revenue'],\n",
      "      dtype='object')\n"
     ]
    }
   ],
   "source": [
    "import pandas as pd\n",
    "\n",
    "# Load the CSV file\n",
    "df = pd.read_csv('data_v1.csv')\n",
    "\n",
    "# Display the columns\n",
    "print(df.columns)"
   ]
  },
  {
   "cell_type": "code",
   "execution_count": 29,
   "id": "ac2c9647",
   "metadata": {},
   "outputs": [],
   "source": [
    "# For device_type == 'Web+App', set supply_source\n",
    "df.loc[\n",
    "    (df['supply_source'] == 'Audience Extension') & (df['device_type'] == 'Web+App'),\n",
    "    'supply_source'\n",
    "] = 'Audience Extension (Web+App)'\n",
    "\n",
    "# For device_type == 'CTV', set supply_source\n",
    "df.loc[\n",
    "    (df['supply_source'] == 'Audience Extension') & (df['device_type'] == 'CTV'),\n",
    "    'supply_source'\n",
    "] = 'Audience Extension (CTV)'"
   ]
  },
  {
   "cell_type": "code",
   "execution_count": 22,
   "id": "b55d999b",
   "metadata": {},
   "outputs": [
    {
     "data": {
      "application/vnd.plotly.v1+json": {
       "config": {
        "plotlyServerURL": "https://plot.ly"
       },
       "data": [
        {
         "link": {
          "source": {
           "bdata": "AgIBAA==",
           "dtype": "i1"
          },
          "target": {
           "bdata": "BAMDAw==",
           "dtype": "i1"
          },
          "value": {
           "bdata": "mXgpluO6AUHFN4Gn+3hXQYizEAeCbHBBqAy7csjocEE=",
           "dtype": "f8"
          }
         },
         "node": {
          "label": [
           "Onsite",
           "Offsite",
           "Audience Extension",
           "Web+App",
           "CTV"
          ],
          "line": {
           "color": "black",
           "width": 0.5
          },
          "pad": 15,
          "thickness": 20
         },
         "type": "sankey"
        }
       ],
       "layout": {
        "font": {
         "size": 10
        },
        "template": {
         "data": {
          "bar": [
           {
            "error_x": {
             "color": "#2a3f5f"
            },
            "error_y": {
             "color": "#2a3f5f"
            },
            "marker": {
             "line": {
              "color": "#E5ECF6",
              "width": 0.5
             },
             "pattern": {
              "fillmode": "overlay",
              "size": 10,
              "solidity": 0.2
             }
            },
            "type": "bar"
           }
          ],
          "barpolar": [
           {
            "marker": {
             "line": {
              "color": "#E5ECF6",
              "width": 0.5
             },
             "pattern": {
              "fillmode": "overlay",
              "size": 10,
              "solidity": 0.2
             }
            },
            "type": "barpolar"
           }
          ],
          "carpet": [
           {
            "aaxis": {
             "endlinecolor": "#2a3f5f",
             "gridcolor": "white",
             "linecolor": "white",
             "minorgridcolor": "white",
             "startlinecolor": "#2a3f5f"
            },
            "baxis": {
             "endlinecolor": "#2a3f5f",
             "gridcolor": "white",
             "linecolor": "white",
             "minorgridcolor": "white",
             "startlinecolor": "#2a3f5f"
            },
            "type": "carpet"
           }
          ],
          "choropleth": [
           {
            "colorbar": {
             "outlinewidth": 0,
             "ticks": ""
            },
            "type": "choropleth"
           }
          ],
          "contour": [
           {
            "colorbar": {
             "outlinewidth": 0,
             "ticks": ""
            },
            "colorscale": [
             [
              0,
              "#0d0887"
             ],
             [
              0.1111111111111111,
              "#46039f"
             ],
             [
              0.2222222222222222,
              "#7201a8"
             ],
             [
              0.3333333333333333,
              "#9c179e"
             ],
             [
              0.4444444444444444,
              "#bd3786"
             ],
             [
              0.5555555555555556,
              "#d8576b"
             ],
             [
              0.6666666666666666,
              "#ed7953"
             ],
             [
              0.7777777777777778,
              "#fb9f3a"
             ],
             [
              0.8888888888888888,
              "#fdca26"
             ],
             [
              1,
              "#f0f921"
             ]
            ],
            "type": "contour"
           }
          ],
          "contourcarpet": [
           {
            "colorbar": {
             "outlinewidth": 0,
             "ticks": ""
            },
            "type": "contourcarpet"
           }
          ],
          "heatmap": [
           {
            "colorbar": {
             "outlinewidth": 0,
             "ticks": ""
            },
            "colorscale": [
             [
              0,
              "#0d0887"
             ],
             [
              0.1111111111111111,
              "#46039f"
             ],
             [
              0.2222222222222222,
              "#7201a8"
             ],
             [
              0.3333333333333333,
              "#9c179e"
             ],
             [
              0.4444444444444444,
              "#bd3786"
             ],
             [
              0.5555555555555556,
              "#d8576b"
             ],
             [
              0.6666666666666666,
              "#ed7953"
             ],
             [
              0.7777777777777778,
              "#fb9f3a"
             ],
             [
              0.8888888888888888,
              "#fdca26"
             ],
             [
              1,
              "#f0f921"
             ]
            ],
            "type": "heatmap"
           }
          ],
          "histogram": [
           {
            "marker": {
             "pattern": {
              "fillmode": "overlay",
              "size": 10,
              "solidity": 0.2
             }
            },
            "type": "histogram"
           }
          ],
          "histogram2d": [
           {
            "colorbar": {
             "outlinewidth": 0,
             "ticks": ""
            },
            "colorscale": [
             [
              0,
              "#0d0887"
             ],
             [
              0.1111111111111111,
              "#46039f"
             ],
             [
              0.2222222222222222,
              "#7201a8"
             ],
             [
              0.3333333333333333,
              "#9c179e"
             ],
             [
              0.4444444444444444,
              "#bd3786"
             ],
             [
              0.5555555555555556,
              "#d8576b"
             ],
             [
              0.6666666666666666,
              "#ed7953"
             ],
             [
              0.7777777777777778,
              "#fb9f3a"
             ],
             [
              0.8888888888888888,
              "#fdca26"
             ],
             [
              1,
              "#f0f921"
             ]
            ],
            "type": "histogram2d"
           }
          ],
          "histogram2dcontour": [
           {
            "colorbar": {
             "outlinewidth": 0,
             "ticks": ""
            },
            "colorscale": [
             [
              0,
              "#0d0887"
             ],
             [
              0.1111111111111111,
              "#46039f"
             ],
             [
              0.2222222222222222,
              "#7201a8"
             ],
             [
              0.3333333333333333,
              "#9c179e"
             ],
             [
              0.4444444444444444,
              "#bd3786"
             ],
             [
              0.5555555555555556,
              "#d8576b"
             ],
             [
              0.6666666666666666,
              "#ed7953"
             ],
             [
              0.7777777777777778,
              "#fb9f3a"
             ],
             [
              0.8888888888888888,
              "#fdca26"
             ],
             [
              1,
              "#f0f921"
             ]
            ],
            "type": "histogram2dcontour"
           }
          ],
          "mesh3d": [
           {
            "colorbar": {
             "outlinewidth": 0,
             "ticks": ""
            },
            "type": "mesh3d"
           }
          ],
          "parcoords": [
           {
            "line": {
             "colorbar": {
              "outlinewidth": 0,
              "ticks": ""
             }
            },
            "type": "parcoords"
           }
          ],
          "pie": [
           {
            "automargin": true,
            "type": "pie"
           }
          ],
          "scatter": [
           {
            "fillpattern": {
             "fillmode": "overlay",
             "size": 10,
             "solidity": 0.2
            },
            "type": "scatter"
           }
          ],
          "scatter3d": [
           {
            "line": {
             "colorbar": {
              "outlinewidth": 0,
              "ticks": ""
             }
            },
            "marker": {
             "colorbar": {
              "outlinewidth": 0,
              "ticks": ""
             }
            },
            "type": "scatter3d"
           }
          ],
          "scattercarpet": [
           {
            "marker": {
             "colorbar": {
              "outlinewidth": 0,
              "ticks": ""
             }
            },
            "type": "scattercarpet"
           }
          ],
          "scattergeo": [
           {
            "marker": {
             "colorbar": {
              "outlinewidth": 0,
              "ticks": ""
             }
            },
            "type": "scattergeo"
           }
          ],
          "scattergl": [
           {
            "marker": {
             "colorbar": {
              "outlinewidth": 0,
              "ticks": ""
             }
            },
            "type": "scattergl"
           }
          ],
          "scattermap": [
           {
            "marker": {
             "colorbar": {
              "outlinewidth": 0,
              "ticks": ""
             }
            },
            "type": "scattermap"
           }
          ],
          "scattermapbox": [
           {
            "marker": {
             "colorbar": {
              "outlinewidth": 0,
              "ticks": ""
             }
            },
            "type": "scattermapbox"
           }
          ],
          "scatterpolar": [
           {
            "marker": {
             "colorbar": {
              "outlinewidth": 0,
              "ticks": ""
             }
            },
            "type": "scatterpolar"
           }
          ],
          "scatterpolargl": [
           {
            "marker": {
             "colorbar": {
              "outlinewidth": 0,
              "ticks": ""
             }
            },
            "type": "scatterpolargl"
           }
          ],
          "scatterternary": [
           {
            "marker": {
             "colorbar": {
              "outlinewidth": 0,
              "ticks": ""
             }
            },
            "type": "scatterternary"
           }
          ],
          "surface": [
           {
            "colorbar": {
             "outlinewidth": 0,
             "ticks": ""
            },
            "colorscale": [
             [
              0,
              "#0d0887"
             ],
             [
              0.1111111111111111,
              "#46039f"
             ],
             [
              0.2222222222222222,
              "#7201a8"
             ],
             [
              0.3333333333333333,
              "#9c179e"
             ],
             [
              0.4444444444444444,
              "#bd3786"
             ],
             [
              0.5555555555555556,
              "#d8576b"
             ],
             [
              0.6666666666666666,
              "#ed7953"
             ],
             [
              0.7777777777777778,
              "#fb9f3a"
             ],
             [
              0.8888888888888888,
              "#fdca26"
             ],
             [
              1,
              "#f0f921"
             ]
            ],
            "type": "surface"
           }
          ],
          "table": [
           {
            "cells": {
             "fill": {
              "color": "#EBF0F8"
             },
             "line": {
              "color": "white"
             }
            },
            "header": {
             "fill": {
              "color": "#C8D4E3"
             },
             "line": {
              "color": "white"
             }
            },
            "type": "table"
           }
          ]
         },
         "layout": {
          "annotationdefaults": {
           "arrowcolor": "#2a3f5f",
           "arrowhead": 0,
           "arrowwidth": 1
          },
          "autotypenumbers": "strict",
          "coloraxis": {
           "colorbar": {
            "outlinewidth": 0,
            "ticks": ""
           }
          },
          "colorscale": {
           "diverging": [
            [
             0,
             "#8e0152"
            ],
            [
             0.1,
             "#c51b7d"
            ],
            [
             0.2,
             "#de77ae"
            ],
            [
             0.3,
             "#f1b6da"
            ],
            [
             0.4,
             "#fde0ef"
            ],
            [
             0.5,
             "#f7f7f7"
            ],
            [
             0.6,
             "#e6f5d0"
            ],
            [
             0.7,
             "#b8e186"
            ],
            [
             0.8,
             "#7fbc41"
            ],
            [
             0.9,
             "#4d9221"
            ],
            [
             1,
             "#276419"
            ]
           ],
           "sequential": [
            [
             0,
             "#0d0887"
            ],
            [
             0.1111111111111111,
             "#46039f"
            ],
            [
             0.2222222222222222,
             "#7201a8"
            ],
            [
             0.3333333333333333,
             "#9c179e"
            ],
            [
             0.4444444444444444,
             "#bd3786"
            ],
            [
             0.5555555555555556,
             "#d8576b"
            ],
            [
             0.6666666666666666,
             "#ed7953"
            ],
            [
             0.7777777777777778,
             "#fb9f3a"
            ],
            [
             0.8888888888888888,
             "#fdca26"
            ],
            [
             1,
             "#f0f921"
            ]
           ],
           "sequentialminus": [
            [
             0,
             "#0d0887"
            ],
            [
             0.1111111111111111,
             "#46039f"
            ],
            [
             0.2222222222222222,
             "#7201a8"
            ],
            [
             0.3333333333333333,
             "#9c179e"
            ],
            [
             0.4444444444444444,
             "#bd3786"
            ],
            [
             0.5555555555555556,
             "#d8576b"
            ],
            [
             0.6666666666666666,
             "#ed7953"
            ],
            [
             0.7777777777777778,
             "#fb9f3a"
            ],
            [
             0.8888888888888888,
             "#fdca26"
            ],
            [
             1,
             "#f0f921"
            ]
           ]
          },
          "colorway": [
           "#636efa",
           "#EF553B",
           "#00cc96",
           "#ab63fa",
           "#FFA15A",
           "#19d3f3",
           "#FF6692",
           "#B6E880",
           "#FF97FF",
           "#FECB52"
          ],
          "font": {
           "color": "#2a3f5f"
          },
          "geo": {
           "bgcolor": "white",
           "lakecolor": "white",
           "landcolor": "#E5ECF6",
           "showlakes": true,
           "showland": true,
           "subunitcolor": "white"
          },
          "hoverlabel": {
           "align": "left"
          },
          "hovermode": "closest",
          "mapbox": {
           "style": "light"
          },
          "paper_bgcolor": "white",
          "plot_bgcolor": "#E5ECF6",
          "polar": {
           "angularaxis": {
            "gridcolor": "white",
            "linecolor": "white",
            "ticks": ""
           },
           "bgcolor": "#E5ECF6",
           "radialaxis": {
            "gridcolor": "white",
            "linecolor": "white",
            "ticks": ""
           }
          },
          "scene": {
           "xaxis": {
            "backgroundcolor": "#E5ECF6",
            "gridcolor": "white",
            "gridwidth": 2,
            "linecolor": "white",
            "showbackground": true,
            "ticks": "",
            "zerolinecolor": "white"
           },
           "yaxis": {
            "backgroundcolor": "#E5ECF6",
            "gridcolor": "white",
            "gridwidth": 2,
            "linecolor": "white",
            "showbackground": true,
            "ticks": "",
            "zerolinecolor": "white"
           },
           "zaxis": {
            "backgroundcolor": "#E5ECF6",
            "gridcolor": "white",
            "gridwidth": 2,
            "linecolor": "white",
            "showbackground": true,
            "ticks": "",
            "zerolinecolor": "white"
           }
          },
          "shapedefaults": {
           "line": {
            "color": "#2a3f5f"
           }
          },
          "ternary": {
           "aaxis": {
            "gridcolor": "white",
            "linecolor": "white",
            "ticks": ""
           },
           "baxis": {
            "gridcolor": "white",
            "linecolor": "white",
            "ticks": ""
           },
           "bgcolor": "#E5ECF6",
           "caxis": {
            "gridcolor": "white",
            "linecolor": "white",
            "ticks": ""
           }
          },
          "title": {
           "x": 0.05
          },
          "xaxis": {
           "automargin": true,
           "gridcolor": "white",
           "linecolor": "white",
           "ticks": "",
           "title": {
            "standoff": 15
           },
           "zerolinecolor": "white",
           "zerolinewidth": 2
          },
          "yaxis": {
           "automargin": true,
           "gridcolor": "white",
           "linecolor": "white",
           "ticks": "",
           "title": {
            "standoff": 15
           },
           "zerolinecolor": "white",
           "zerolinewidth": 2
          }
         }
        },
        "title": {
         "text": "Supply Source to Demande Source Sankey Diagram"
        }
       }
      }
     },
     "metadata": {},
     "output_type": "display_data"
    }
   ],
   "source": [
    "import plotly.graph_objects as go\n",
    "\n",
    "# Generate lists of unique sources and targets\n",
    "sources = list(df['supply_source'].unique())\n",
    "targets = list(df['device_type'].unique())\n",
    "all_labels = sources + targets\n",
    "\n",
    "# Map labels to indices\n",
    "label_indices = {label: i for i, label in enumerate(all_labels)}\n",
    "\n",
    "# Prepare data for the sankey chart\n",
    "links = df.groupby(['supply_source', 'device_type'])['revenue'].sum().reset_index()\n",
    "\n",
    "source_indices = links['supply_source'].map(label_indices)\n",
    "target_indices = links['device_type'].map(label_indices)\n",
    "\n",
    "# Create Sankey diagram\n",
    "fig = go.Figure(data=[go.Sankey(\n",
    "    node=dict(\n",
    "        pad=15,\n",
    "        thickness=20,\n",
    "        line=dict(color=\"black\", width=0.5),\n",
    "        label=all_labels,\n",
    "    ),\n",
    "    link=dict(\n",
    "        source=source_indices,\n",
    "        target=target_indices,\n",
    "        value=links['revenue']\n",
    "    ))])\n",
    "\n",
    "fig.update_layout(title_text=\"Supply Source to Demande Source Sankey Diagram\", font_size=10)\n",
    "fig.show()"
   ]
  },
  {
   "cell_type": "code",
   "execution_count": 41,
   "id": "25a9e427",
   "metadata": {},
   "outputs": [
    {
     "data": {
      "text/html": [
       "\n",
       "        <iframe\n",
       "            width=\"100%\"\n",
       "            height=\"650\"\n",
       "            src=\"http://127.0.0.1:8050/\"\n",
       "            frameborder=\"0\"\n",
       "            allowfullscreen\n",
       "            \n",
       "        ></iframe>\n",
       "        "
      ],
      "text/plain": [
       "<IPython.lib.display.IFrame at 0x126f4a450>"
      ]
     },
     "metadata": {},
     "output_type": "display_data"
    }
   ],
   "source": [
    "import dash\n",
    "from dash import dcc, html, Input, Output\n",
    "import plotly.graph_objects as go\n",
    "\n",
    "df.fillna(\"N/A\", inplace=True)\n",
    "\n",
    "app = dash.Dash(__name__)\n",
    "\n",
    "sorted_months = sorted(df['event_month'].unique())\n",
    "\n",
    "month_options = [{'label': 'All', 'value': 'All'}] + \\\n",
    "                [{'label': m, 'value': m} for m in sorted_months]\n",
    "\n",
    "app.layout = html.Div([\n",
    "    html.Label(\"Region\"),\n",
    "    dcc.Dropdown(\n",
    "        id='region-filter',\n",
    "        options=[{'label': 'All', 'value': 'All'}] + \n",
    "                [{'label': r, 'value': r} for r in df['region'].unique()],\n",
    "        value='All',\n",
    "        clearable=True,\n",
    "        placeholder=\"Select a region...\",\n",
    "    ),\n",
    "    dcc.Dropdown(\n",
    "        id='month-filter',\n",
    "        options=month_options,\n",
    "        value='All',\n",
    "        clearable=True,\n",
    "        placeholder=\"Select a month...\",\n",
    "    ),\n",
    "    dcc.Graph(id='sankey-chart')\n",
    "])\n",
    "\n",
    "@app.callback(\n",
    "    Output('sankey-chart', 'figure'),\n",
    "    [Input('region-filter', 'value'),\n",
    "     Input('month-filter', 'value')]\n",
    ")\n",
    "\n",
    "def update_sankey(region, month):\n",
    "    import pandas as pd\n",
    "    import plotly.graph_objects as go\n",
    "\n",
    "    filtered_df = df.copy()\n",
    "    title = \"Sankey Chart\"\n",
    "\n",
    "    # Apply filters if needed\n",
    "    if region and region != \"All\":\n",
    "        filtered_df = filtered_df[filtered_df['region'] == region]\n",
    "        title += f\" | Region: {region}\"\n",
    "    else:\n",
    "        title += \" | All Regions\"\n",
    "    if month and month != \"All\":\n",
    "        filtered_df = filtered_df[filtered_df['event_month'] == month]\n",
    "        title += f\" | Month: {month}\"\n",
    "    else:\n",
    "        title += \" | All Months\"\n",
    "\n",
    "    # Audience Extension types for breakdown\n",
    "    ae_types = [\"Audience Extension (Web+App)\", \"Audience Extension (CTV)\"]\n",
    "\n",
    "    # --- Calculate percentages ---\n",
    "    total_revenue = filtered_df['revenue'].sum()\n",
    "    supply_pct = (filtered_df.groupby('supply_source')['revenue'].sum() / total_revenue * 100).round(1)\n",
    "    demand_pct = (filtered_df.groupby('demande_source')['revenue'].sum() / total_revenue * 100).round(1)\n",
    "\n",
    "    # --- Node labels with percentages ---\n",
    "    sources = filtered_df['supply_source'].unique().tolist()\n",
    "    plateformes = filtered_df.loc[filtered_df['supply_source'].isin(ae_types), 'plateforme_AE'].unique().tolist()\n",
    "    demandes = filtered_df['demande_source'].unique().tolist()\n",
    "    \n",
    "    # Helper for line breaks (retour à la ligne)\n",
    "    def linebreak_label(label, pct=None):\n",
    "        if pct is not None:\n",
    "            return f\"{label}<br>({pct:.1f}%)\"\n",
    "        return label\n",
    "\n",
    "    sources_labels = [linebreak_label(s, supply_pct[s]) if s in supply_pct else s for s in sources]\n",
    "    plateformes_labels = plateformes  # usually no percentage for intermediates\n",
    "    demandes_labels = [linebreak_label(d, demand_pct[d]) if d in demand_pct else d for d in demandes]\n",
    "\n",
    "    all_labels = sources_labels + plateformes_labels + demandes_labels\n",
    "    label_indices = {label: i for i, label in enumerate(all_labels)}\n",
    "\n",
    "    # Mapping original values to labels with percentages\n",
    "    supply_map = {s: l for s, l in zip(sources, sources_labels)}\n",
    "    demand_map = {d: l for d, l in zip(demandes, demandes_labels)}\n",
    "\n",
    "    # --- Links ---\n",
    "    # 1. Audience Extension types: supply_source → plateforme_AE → demande_source\n",
    "    ae_df = filtered_df[filtered_df['supply_source'].isin(ae_types)].copy()\n",
    "    # supply_source → plateforme_AE\n",
    "    links1_ae = ae_df.groupby(['supply_source', 'plateforme_AE'])['revenue'].sum().reset_index()\n",
    "    links1_ae['source'] = links1_ae['supply_source'].map(supply_map).map(label_indices)\n",
    "    links1_ae['target'] = links1_ae['plateforme_AE'].map(label_indices)\n",
    "    # plateforme_AE → demande_source\n",
    "    links2_ae = ae_df.groupby(['plateforme_AE', 'demande_source'])['revenue'].sum().reset_index()\n",
    "    links2_ae['source'] = links2_ae['plateforme_AE'].map(label_indices)\n",
    "    links2_ae['target'] = links2_ae['demande_source'].map(demand_map).map(label_indices)\n",
    "\n",
    "    # 2. Non-Audience Extension: supply_source → demande_source\n",
    "    non_ae_df = filtered_df[~filtered_df['supply_source'].isin(ae_types)].copy()\n",
    "    links_non_ae = non_ae_df.groupby(['supply_source', 'demande_source'])['revenue'].sum().reset_index()\n",
    "    links_non_ae['source'] = links_non_ae['supply_source'].map(supply_map).map(label_indices)\n",
    "    links_non_ae['target'] = links_non_ae['demande_source'].map(demand_map).map(label_indices)\n",
    "\n",
    "    # Combine all links\n",
    "    sources_all = pd.concat([links1_ae['source'], links2_ae['source'], links_non_ae['source']])\n",
    "    targets_all = pd.concat([links1_ae['target'], links2_ae['target'], links_non_ae['target']])\n",
    "    values_all  = pd.concat([links1_ae['revenue'], links2_ae['revenue'], links_non_ae['revenue']])\n",
    "\n",
    "    # Sankey Plot\n",
    "    fig = go.Figure(data=[go.Sankey(\n",
    "        node=dict(\n",
    "            pad=15,\n",
    "            thickness=20,\n",
    "            line=dict(color=\"black\", width=0.5),\n",
    "            label=all_labels,\n",
    "        ),\n",
    "        link=dict(\n",
    "            source=sources_all,\n",
    "            target=targets_all,\n",
    "            value=values_all\n",
    "        ))])\n",
    "\n",
    "    fig.update_layout(title_text=title, font_size=10)\n",
    "    return fig\n",
    "\n",
    "if __name__ == '__main__':\n",
    "    app.run(debug=True)"
   ]
  },
  {
   "cell_type": "code",
   "execution_count": 42,
   "id": "65838361",
   "metadata": {},
   "outputs": [],
   "source": [
    "fig.write_html(\"sankey_chart.html\")"
   ]
  }
 ],
 "metadata": {
  "kernelspec": {
   "display_name": ".venv",
   "language": "python",
   "name": "python3"
  },
  "language_info": {
   "codemirror_mode": {
    "name": "ipython",
    "version": 3
   },
   "file_extension": ".py",
   "mimetype": "text/x-python",
   "name": "python",
   "nbconvert_exporter": "python",
   "pygments_lexer": "ipython3",
   "version": "3.13.5"
  }
 },
 "nbformat": 4,
 "nbformat_minor": 5
}
